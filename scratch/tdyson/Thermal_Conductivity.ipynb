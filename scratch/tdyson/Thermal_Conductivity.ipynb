{
 "cells": [
  {
   "cell_type": "code",
   "execution_count": 2,
   "id": "69f0c2f7-76d8-4d69-9b05-ed86464aca44",
   "metadata": {},
   "outputs": [],
   "source": [
    "import numpy as np\n",
    "import matplotlib.pyplot as plt\n",
    "from functools import partial"
   ]
  },
  {
   "cell_type": "code",
   "execution_count": 3,
   "id": "54c4253a-0a40-4b98-b0bd-02b0966a1651",
   "metadata": {},
   "outputs": [],
   "source": [
    "def heating_power(A, L, int_k):\n",
    "    '''\n",
    "    Given an area, length, and integrated thermal conductivity\n",
    "    (see e.g. https://cds.cern.ch/record/1973682/files/arXiv:1501.07100.pdf table A3, sec. 2.2 for explanation),\n",
    "    get heat load in Watts.\n",
    "    '''\n",
    "    \n",
    "    return A / L * int_k\n",
    "\n",
    "def int_k(k_of_T_func, T_i, T_f, N=1000):\n",
    "    '''\n",
    "    Take the integral of k(T) from one temperature to another.\n",
    "    Plug this into heating_power() to find heat flow.\n",
    "    '''\n",
    "    \n",
    "    Ts = np.linspace(T_i, T_f, N)\n",
    "    dT = np.diff(Ts)[0]\n",
    "    ks = k_of_T_func(Ts)\n",
    "    int_k = np.sum(ks) * dT\n",
    "    \n",
    "    return int_k \n",
    "\n",
    "def tube_A(outer_r, inner_r):\n",
    "    '''\n",
    "    Cross-sec. area of a tube with outer and inner radii.\n",
    "    '''\n",
    "    \n",
    "    outer_A = np.pi*outer_r**2\n",
    "    inner_A = np.pi*inner_r**2\n",
    "    \n",
    "    return outer_A - inner_A"
   ]
  },
  {
   "cell_type": "code",
   "execution_count": 4,
   "id": "2ea6ff19-1763-4e09-b176-404904c3fc0c",
   "metadata": {},
   "outputs": [],
   "source": [
    "def G10_k(T, params):\n",
    "    '''\n",
    "    From NIST.\n",
    "    '''\n",
    "    terms = np.array([(np.log10(T))**i for i in range(len(params))])\n",
    "    exponent = (terms.T * params).T\n",
    "    return np.power(10, np.sum(exponent, axis=0))\n",
    "\n",
    "# good down to 10 K\n",
    "G10_params_norm = np.array([-4.1236, 13.788, -26.068, 26.272, -14.663, 4.4954, -0.6905, 0.0397])\n",
    "# below is what we use. Good to 12 K.\n",
    "G10_params_warp = np.array([-2.64827, 8.80228, -24.8998, 41.1625, -39.8754, 23.1778, -7.95635, 1.48806, -0.11701])"
   ]
  },
  {
   "cell_type": "code",
   "execution_count": 5,
   "id": "fe739d0a-afda-4cd2-8f9f-2f64a2c57037",
   "metadata": {},
   "outputs": [
    {
     "data": {
      "text/plain": [
       "[<matplotlib.lines.Line2D at 0x26eb4f1f5b0>]"
      ]
     },
     "execution_count": 5,
     "metadata": {},
     "output_type": "execute_result"
    },
    {
     "data": {
      "image/png": "[encoded data removed]",
      "text/plain": [
       "<Figure size 432x288 with 1 Axes>"
      ]
     },
     "metadata": {
      "needs_background": "light"
     },
     "output_type": "display_data"
    }
   ],
   "source": [
    "T = np.linspace(10, 350, 100)\n",
    "plt.plot(T, G10_k(T, G10_params_warp))"
   ]
  },
  {
   "cell_type": "markdown",
   "id": "0283c313-8d1d-448f-a15b-f83b5faaa885",
   "metadata": {},
   "source": [
    "c.f. https://trc.nist.gov/cryogenics/materials/G-10%20CR%20Fiberglass%20Epoxy/G10CRFiberglassEpoxy_rev.htm, plot for warp direction"
   ]
  },
  {
   "cell_type": "code",
   "execution_count": 6,
   "id": "aed0ed01-dca9-4a75-88ac-f4e4eab936c2",
   "metadata": {},
   "outputs": [
    {
     "data": {
      "text/plain": [
       "1.0076372814932397"
      ]
     },
     "execution_count": 6,
     "metadata": {},
     "output_type": "execute_result"
    }
   ],
   "source": [
    "G10_int_k = int_k(partial(G10_k, params=G10_params_warp), 10, 300, N=10000) # W / m K\n",
    "A = 6*tube_A(0.05, 0.05-0.001) # m^2\n",
    "L = 0.3 # m\n",
    "heating_power(A, L, G10_int_k) # W"
   ]
  },
  {
   "cell_type": "code",
   "execution_count": null,
   "id": "972a6ef0-012d-480d-9f0e-cf2303fb9ef1",
   "metadata": {},
   "outputs": [],
   "source": []
  }
 ],
 "metadata": {
  "kernelspec": {
   "display_name": "Python 3 (ipykernel)",
   "language": "python",
   "name": "python3"
  },
  "language_info": {
   "codemirror_mode": {
    "name": "ipython",
    "version": 3
   },
   "file_extension": ".py",
   "mimetype": "text/x-python",
   "name": "python",
   "nbconvert_exporter": "python",
   "pygments_lexer": "ipython3",
   "version": "3.9.7"
  }
 },
 "nbformat": 4,
 "nbformat_minor": 5
}
