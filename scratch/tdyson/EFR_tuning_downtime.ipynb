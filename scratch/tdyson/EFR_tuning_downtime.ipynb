{
 "cells": [
  {
   "cell_type": "code",
   "execution_count": 2,
   "id": "2f7e882c-0ee0-495d-bf4d-c8a4542bd8f0",
   "metadata": {},
   "outputs": [],
   "source": [
    "import numpy as np"
   ]
  },
  {
   "cell_type": "code",
   "execution_count": 3,
   "id": "6fc46a52-35d0-4d54-97d9-681310be33c0",
   "metadata": {},
   "outputs": [],
   "source": [
    "def N_steps(fi, ff, f_fid, Q_fid, F=10):\n",
    "    f = fi\n",
    "    N = 0\n",
    "    while f < ff:\n",
    "        Q = Q_fid * (f_fid/f)**2\n",
    "        step_size = f / (F * Q)\n",
    "        f += step_size\n",
    "        N += 1\n",
    "    return N\n",
    "\n",
    "def N_steps_naive(fi, ff, f_fid, Q_fid, F=10):\n",
    "    f = fi\n",
    "    N = 0\n",
    "    while f < ff:\n",
    "        Q = Q_fid\n",
    "        step_size = fi / (F * Q)\n",
    "        f += step_size\n",
    "        N += 1\n",
    "    return N"
   ]
  },
  {
   "cell_type": "code",
   "execution_count": 4,
   "id": "5ff08294-1e28-4a5b-a877-9db40eacd10a",
   "metadata": {},
   "outputs": [],
   "source": [
    "EFR_steps_thresh = N_steps(2e9,4e9,4e9,54e3)"
   ]
  },
  {
   "cell_type": "code",
   "execution_count": 5,
   "id": "93969be8-1b4f-41f8-ab17-2e7209e5276a",
   "metadata": {},
   "outputs": [
    {
     "data": {
      "text/plain": [
       "540000"
      ]
     },
     "execution_count": 5,
     "metadata": {},
     "output_type": "execute_result"
    }
   ],
   "source": [
    "N_steps_naive(2e9,4e9,4e9,54e3)"
   ]
  },
  {
   "cell_type": "code",
   "execution_count": 6,
   "id": "a5490f56-23e6-468a-9749-d40b006fe21a",
   "metadata": {},
   "outputs": [],
   "source": [
    "thresh_step_time = 5 # s"
   ]
  },
  {
   "cell_type": "code",
   "execution_count": 7,
   "id": "8211674c-6bf8-453b-bc93-8da1e40a8370",
   "metadata": {},
   "outputs": [],
   "source": [
    "EFR_downtime_thresh = EFR_steps_thresh * thresh_step_time"
   ]
  },
  {
   "cell_type": "code",
   "execution_count": 8,
   "id": "518217cf-02d6-43c1-b075-bc345a97fe63",
   "metadata": {},
   "outputs": [],
   "source": [
    "days_per_s = 1.15741e-5"
   ]
  },
  {
   "cell_type": "code",
   "execution_count": 9,
   "id": "0b88ae79-226f-4e99-af8b-06f12785524e",
   "metadata": {},
   "outputs": [
    {
     "data": {
      "text/plain": [
       "46.875220741"
      ]
     },
     "execution_count": 9,
     "metadata": {},
     "output_type": "execute_result"
    }
   ],
   "source": [
    "EFR_downtime_thresh * days_per_s"
   ]
  },
  {
   "cell_type": "code",
   "execution_count": 10,
   "id": "8cad12f9-b579-4f0c-b2f1-7a778159e9c6",
   "metadata": {},
   "outputs": [],
   "source": [
    "EFR_steps_obj = N_steps(2e9,4e9,4e9,120e3)\n",
    "obj_step_time = 2 # s\n",
    "EFR_downtime_obj = EFR_steps_obj * obj_step_time"
   ]
  },
  {
   "cell_type": "code",
   "execution_count": 11,
   "id": "9dec0d15-5652-40b0-be44-ff745a1b4b41",
   "metadata": {},
   "outputs": [
    {
     "data": {
      "text/plain": [
       "41.6668062964"
      ]
     },
     "execution_count": 11,
     "metadata": {},
     "output_type": "execute_result"
    }
   ],
   "source": [
    "EFR_downtime_obj * days_per_s"
   ]
  },
  {
   "cell_type": "markdown",
   "id": "7e4e5449-d307-44f0-bf3d-8db790c6639c",
   "metadata": {},
   "source": [
    "# Again, with Stefan's Q"
   ]
  },
  {
   "cell_type": "code",
   "execution_count": 12,
   "id": "1bc66fd5-3e40-4d46-b0b2-ced5d02887b4",
   "metadata": {},
   "outputs": [],
   "source": [
    "data = np.load('2024-01-18-EFR-QualityFactors.npz')"
   ]
  },
  {
   "cell_type": "code",
   "execution_count": 13,
   "id": "b6f4b229-5d93-45a5-a1bf-b3b8e8af1c1e",
   "metadata": {},
   "outputs": [],
   "source": [
    "def N_steps_fed_Q(fi, ff, fs, Qs, F=10):\n",
    "    f = fi\n",
    "    N = 0\n",
    "    while f < ff:\n",
    "        Q = Qs[np.argmin(np.abs(fs-f))]\n",
    "        step_size = f / (F * Q)\n",
    "        f += step_size\n",
    "        N += 1\n",
    "    return N"
   ]
  },
  {
   "cell_type": "code",
   "execution_count": 14,
   "id": "52965b62-d7bb-491f-9475-400c2f802037",
   "metadata": {},
   "outputs": [],
   "source": [
    "EFR_steps_thresh = N_steps_fed_Q(data[\"frequency\"][0],data[\"frequency\"][-1],data[\"frequency\"],1000*data[\"Qthr\"])\n",
    "thresh_step_time = 5 # s \n",
    "EFR_downtime_thresh = EFR_steps_thresh * thresh_step_time * days_per_s"
   ]
  },
  {
   "cell_type": "code",
   "execution_count": 15,
   "id": "73388a83-fdd9-482f-9707-de1da0480a23",
   "metadata": {},
   "outputs": [],
   "source": [
    "EFR_steps_obj = N_steps_fed_Q(data[\"frequency\"][0],data[\"frequency\"][-1],data[\"frequency\"],1000*data[\"Qobj\"])\n",
    "obj_step_time = 2 # s \n",
    "EFR_downtime_obj = EFR_steps_obj * obj_step_time * days_per_s"
   ]
  },
  {
   "cell_type": "code",
   "execution_count": 16,
   "id": "127639c0-b916-43f5-aa93-c4e80bf9fdaa",
   "metadata": {},
   "outputs": [
    {
     "data": {
      "text/plain": [
       "(30.306086404, 24.244845975)"
      ]
     },
     "execution_count": 16,
     "metadata": {},
     "output_type": "execute_result"
    }
   ],
   "source": [
    "EFR_downtime_thresh, EFR_downtime_obj"
   ]
  },
  {
   "cell_type": "code",
   "execution_count": 17,
   "id": "f9d95a93-e0fd-4f75-8e0e-f6be562f61f3",
   "metadata": {},
   "outputs": [],
   "source": [
    "import matplotlib.pyplot as plt"
   ]
  },
  {
   "cell_type": "code",
   "execution_count": 18,
   "id": "f15cc431-034c-4d3a-94d4-27ccad8d4d5f",
   "metadata": {},
   "outputs": [
    {
     "data": {
      "text/plain": [
       "[<matplotlib.lines.Line2D at 0x274d10d4bb0>]"
      ]
     },
     "execution_count": 18,
     "metadata": {},
     "output_type": "execute_result"
    },
    {
     "data": {
      "image/png": "[encoded data removed]",
      "text/plain": [
       "<Figure size 432x288 with 1 Axes>"
      ]
     },
     "metadata": {
      "needs_background": "light"
     },
     "output_type": "display_data"
    },
    {
     "data": {
      "image/png": "[encoded data removed]",
      "text/plain": [
       "<Figure size 432x288 with 1 Axes>"
      ]
     },
     "metadata": {
      "needs_background": "light"
     },
     "output_type": "display_data"
    }
   ],
   "source": [
    "plt.plot(data[\"frequency\"], 1000*data[\"Qthr\"])\n",
    "plt.plot(data[\"frequency\"], 54e3 * (4e9/data[\"frequency\"])**2)\n",
    "plt.figure()\n",
    "plt.plot(data[\"frequency\"], 1000*data[\"Qobj\"])\n",
    "plt.plot(data[\"frequency\"], 120e3 * (4e9/data[\"frequency\"])**2)"
   ]
  },
  {
   "cell_type": "code",
   "execution_count": 39,
   "id": "77832639-d334-4743-a97d-c0f0292ddcf7",
   "metadata": {},
   "outputs": [
    {
     "data": {
      "text/plain": [
       "[<matplotlib.lines.Line2D at 0x274d144d8b0>]"
      ]
     },
     "execution_count": 39,
     "metadata": {},
     "output_type": "execute_result"
    },
    {
     "data": {
      "image/png": "[encoded data removed]",
      "text/plain": [
       "<Figure size 432x288 with 1 Axes>"
      ]
     },
     "metadata": {
      "needs_background": "light"
     },
     "output_type": "display_data"
    }
   ],
   "source": [
    "plt.plot(data[\"frequency\"], data[\"frequency\"]/(1000*data[\"Qthr\"]))"
   ]
  },
  {
   "cell_type": "code",
   "execution_count": 46,
   "id": "fb92388e-d86f-44c6-96dc-b94d7a7bf725",
   "metadata": {},
   "outputs": [
    {
     "data": {
      "text/plain": [
       "[<matplotlib.lines.Line2D at 0x274d10f6280>]"
      ]
     },
     "execution_count": 46,
     "metadata": {},
     "output_type": "execute_result"
    },
    {
     "data": {
      "image/png": "[encoded data removed]",
      "text/plain": [
       "<Figure size 432x288 with 1 Axes>"
      ]
     },
     "metadata": {
      "needs_background": "light"
     },
     "output_type": "display_data"
    }
   ],
   "source": [
    "linewidths = data[\"frequency\"]/(1000*data[\"Qthr\"]) # Hz\n",
    "fullspan_lw = -1 * np.ones(60000)\n",
    "f = 2e9\n",
    "i = 0\n",
    "j = 0\n",
    "while f < 4e9:\n",
    "    fullspan_lw[i] = linewidths[j]\n",
    "    f += linewidths[j]\n",
    "    while j < len(data[\"frequency\"]) and f > data[\"frequency\"][j]:\n",
    "        j += 1\n",
    "    if j == len(data[\"frequency\"]):\n",
    "        break\n",
    "    i += 1"
   ]
  },
  {
   "cell_type": "code",
   "execution_count": 50,
   "id": "2debe664-556a-46ca-b8aa-24b91810f01d",
   "metadata": {},
   "outputs": [
    {
     "data": {
      "text/plain": [
       "[<matplotlib.lines.Line2D at 0x274d12f2340>]"
      ]
     },
     "execution_count": 50,
     "metadata": {},
     "output_type": "execute_result"
    },
    {
     "data": {
      "image/png": "[encoded data removed]",
      "text/plain": [
       "<Figure size 432x288 with 1 Axes>"
      ]
     },
     "metadata": {
      "needs_background": "light"
     },
     "output_type": "display_data"
    }
   ],
   "source": [
    "fullspan_lw = np.array(fullspan_lw)[np.where(fullspan_lw>0)]\n",
    "plt.plot(fullspan_lw)"
   ]
  },
  {
   "cell_type": "code",
   "execution_count": 56,
   "id": "b78f5284-75ca-4818-90b4-71d54a72a923",
   "metadata": {},
   "outputs": [
    {
     "data": {
      "text/plain": [
       "(-500.0, 500.0)"
      ]
     },
     "execution_count": 56,
     "metadata": {},
     "output_type": "execute_result"
    },
    {
     "data": {
      "image/png": "[encoded data removed]",
      "text/plain": [
       "<Figure size 432x288 with 1 Axes>"
      ]
     },
     "metadata": {
      "needs_background": "light"
     },
     "output_type": "display_data"
    }
   ],
   "source": [
    "plt.plot(np.diff(fullspan_lw))\n",
    "plt.ylim(-500,500)"
   ]
  },
  {
   "cell_type": "code",
   "execution_count": 47,
   "id": "5c8653cb-b848-4067-a104-9cc417cb1ff5",
   "metadata": {},
   "outputs": [
    {
     "data": {
      "text/plain": [
       "3921820617.498297"
      ]
     },
     "execution_count": 47,
     "metadata": {},
     "output_type": "execute_result"
    }
   ],
   "source": [
    "f"
   ]
  },
  {
   "cell_type": "code",
   "execution_count": 58,
   "id": "67a53fe2-a5e2-422b-94cf-3a5244820453",
   "metadata": {},
   "outputs": [
    {
     "data": {
      "text/plain": [
       "(52368.8, 52275)"
      ]
     },
     "execution_count": 58,
     "metadata": {},
     "output_type": "execute_result"
    }
   ],
   "source": [
    "EFR_steps_thresh/10, len(fullspan_lw)"
   ]
  },
  {
   "cell_type": "code",
   "execution_count": 59,
   "id": "609c2880-52ca-42bb-b73a-6667f390c68b",
   "metadata": {},
   "outputs": [
    {
     "data": {
      "text/plain": [
       "0.11761603670107681"
      ]
     },
     "execution_count": 59,
     "metadata": {},
     "output_type": "execute_result"
    },
    {
     "data": {
      "image/png": "[encoded data removed]",
      "text/plain": [
       "<Figure size 432x288 with 1 Axes>"
      ]
     },
     "metadata": {
      "needs_background": "light"
     },
     "output_type": "display_data"
    }
   ],
   "source": [
    "N_cands = 3200\n",
    "reBWs = np.zeros(1000)\n",
    "for i in range(len(reBWs)):\n",
    "    reBWs[i] = np.sum(np.random.choice(fullspan_lw, N_cands, replace=False))\n",
    "               \n",
    "plt.hist(reBWs)\n",
    "np.mean(reBWs*1e-9)"
   ]
  },
  {
   "cell_type": "code",
   "execution_count": 60,
   "id": "76cecb4f-2b63-4266-9a77-b16b3171e193",
   "metadata": {},
   "outputs": [
    {
     "data": {
      "text/plain": [
       "0.14545454545454548"
      ]
     },
     "execution_count": 60,
     "metadata": {},
     "output_type": "execute_result"
    }
   ],
   "source": [
    "lw = 3e9 / 66000\n",
    "lw * 3200 * 1e-9"
   ]
  }
 ],
 "metadata": {
  "kernelspec": {
   "display_name": "Python 3 (ipykernel)",
   "language": "python",
   "name": "python3"
  },
  "language_info": {
   "codemirror_mode": {
    "name": "ipython",
    "version": 3
   },
   "file_extension": ".py",
   "mimetype": "text/x-python",
   "name": "python",
   "nbconvert_exporter": "python",
   "pygments_lexer": "ipython3",
   "version": "3.9.7"
  }
 },
 "nbformat": 4,
 "nbformat_minor": 5
}
