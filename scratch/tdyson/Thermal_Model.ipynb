{
 "cells": [
  {
   "cell_type": "code",
   "execution_count": 4,
   "id": "69f0c2f7-76d8-4d69-9b05-ed86464aca44",
   "metadata": {},
   "outputs": [],
   "source": [
    "import numpy as np\n",
    "import matplotlib.pyplot as plt\n",
    "from functools import partial"
   ]
  },
  {
   "cell_type": "code",
   "execution_count": 5,
   "id": "f99563fa-e24e-47d3-a9d9-04a88f5365fe",
   "metadata": {},
   "outputs": [],
   "source": [
    "class element():\n",
    "     def __init__(self, mass, C, T):\n",
    "            '''\n",
    "            float mass (g), float thermal conductivity (W/gC), float T (K), derived float heat load (W)\n",
    "            '''\n",
    "            self.mass = mass\n",
    "            self.C = C\n",
    "            self.T = T\n",
    "            self.P = 0\n",
    "            \n",
    "class link():\n",
    "    def __init__(self, L, A, k, ends, N=1000):\n",
    "        ''' \n",
    "        float length (m), float area (m^2), function thermal condcutivity of T (W/mdegC), list of element()s connected (2 long), int number of points in T integral\n",
    "        '''\n",
    "        self.L = L\n",
    "        self.A = A\n",
    "        self.k = k\n",
    "        self.ends = ends\n",
    "        \n",
    "    def calc_heat_flow(self):\n",
    "        '''\n",
    "        Adds heat flow from hotter end to colder end's internally stored thermal load P\n",
    "        '''\n",
    "        hotter_end = ends[np.argmax([elem.T for elem in self.ends])]\n",
    "        colder_end = ends[1-np.argmax([elem.T for elem in self.ends])]\n",
    "        \n",
    "        Ts = np.linspace(colder_end.T, hotter_end.T, N)\n",
    "        dT = np.diff(Ts)[0]\n",
    "        ks = self.k(Ts)\n",
    "        int_k = np.sum(ks) * dT\n",
    "        \n",
    "        colder_end.P += self.A / self.L * int_k"
   ]
  },
  {
   "cell_type": "code",
   "execution_count": 6,
   "id": "54c4253a-0a40-4b98-b0bd-02b0966a1651",
   "metadata": {},
   "outputs": [],
   "source": [
    "def tube_A(outer_r, inner_r):\n",
    "    '''\n",
    "    Cross-sec. area of a tube with outer and inner radii.\n",
    "    '''\n",
    "    \n",
    "    outer_A = np.pi*outer_r**2\n",
    "    inner_A = np.pi*inner_r**2\n",
    "    \n",
    "    return outer_A - inner_A"
   ]
  },
  {
   "cell_type": "code",
   "execution_count": 7,
   "id": "2ea6ff19-1763-4e09-b176-404904c3fc0c",
   "metadata": {},
   "outputs": [],
   "source": [
    "def G10_k(T, params):\n",
    "    '''\n",
    "    From NIST.\n",
    "    '''\n",
    "    terms = np.array([(np.log10(T))**i for i in range(len(params))])\n",
    "    exponent = (terms.T * params).T\n",
    "    return np.power(10, np.sum(exponent, axis=0))\n",
    "\n",
    "# good down to 10 K\n",
    "G10_params_norm = np.array([-4.1236, 13.788, -26.068, 26.272, -14.663, 4.4954, -0.6905, 0.0397])\n",
    "# below is what we use. Good to 12 K.\n",
    "G10_params_warp = np.array([-2.64827, 8.80228, -24.8998, 41.1625, -39.8754, 23.1778, -7.95635, 1.48806, -0.11701])"
   ]
  },
  {
   "cell_type": "code",
   "execution_count": null,
   "id": "75ee2a06-bdac-4e5e-ba88-6bbbf415c4db",
   "metadata": {},
   "outputs": [],
   "source": [
    "room_wedge_stage = element(1000,  1, 300)\n",
    "fiftyK_wedge_stage = element(1000,  1, 10)\n",
    "\n",
    "weddingcake_room_to_50 = link(0.3, 6*tube_A(0.05, 0.05-0.001)"
   ]
  }
 ],
 "metadata": {
  "kernelspec": {
   "display_name": "Python 3 (ipykernel)",
   "language": "python",
   "name": "python3"
  },
  "language_info": {
   "codemirror_mode": {
    "name": "ipython",
    "version": 3
   },
   "file_extension": ".py",
   "mimetype": "text/x-python",
   "name": "python",
   "nbconvert_exporter": "python",
   "pygments_lexer": "ipython3",
   "version": "3.9.7"
  }
 },
 "nbformat": 4,
 "nbformat_minor": 5
}
