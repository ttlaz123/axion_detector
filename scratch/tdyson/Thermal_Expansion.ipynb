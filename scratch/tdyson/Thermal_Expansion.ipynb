{
 "cells": [
  {
   "cell_type": "code",
   "execution_count": 5,
   "id": "d1042dbf-372e-4cc6-a8c1-1da8f4fc8d85",
   "metadata": {},
   "outputs": [],
   "source": [
    "import numpy as np\n",
    "import matplotlib.pyplot as plt\n",
    "from functools import partial"
   ]
  },
  {
   "cell_type": "code",
   "execution_count": null,
   "id": "da392005-3814-4eda-8de6-fb07641c8e31",
   "metadata": {},
   "outputs": [],
   "source": [
    "Sa"
   ]
  },
  {
   "cell_type": "code",
   "execution_count": 10,
   "id": "3285e046-8afb-42a3-a913-3748016a8f3e",
   "metadata": {},
   "outputs": [],
   "source": [
    "def COTE(T,a,b,c,d,e,f,Tlow):\n",
    "    if T >= Tlow:\n",
    "        retval = a + b*T + c*T**2 + d*T**3 + e*T**4\n",
    "    else:\n",
    "        retval = f\n",
    "    return retval\n",
    "\n",
    "def deltaL(L, T, COTE):\n",
    "    return COTE(T) * L"
   ]
  },
  {
   "cell_type": "code",
   "execution_count": 8,
   "id": "4468f96d-f813-419f-8732-24f6bc76dced",
   "metadata": {},
   "outputs": [],
   "source": [
    "# https://trc.nist.gov/cryogenics/materials/6061%20Aluminum/6061_T6Aluminum_rev.htm\n",
    "Ala = -4.1277e2*1e-5\n",
    "Alb = -3.0389e-1*1e-5\n",
    "Alc = 8.7696e-3*1e-5\n",
    "Ald = -9.9821e-6*1e-5\n",
    "Ale = 0*1e-5\n",
    "Alf = -415.45*1e-5\n",
    "Al_Tlow = 18\n",
    "\n",
    "Al_COTE = partial(COTE, a=Ala, b=Alb, c=Alc, d=Ald, e=Ale, f=Alf, Tlow=Al_Tlow)"
   ]
  },
  {
   "cell_type": "code",
   "execution_count": 19,
   "id": "48740bce-ba4c-447d-ad77-ecde5258bb1e",
   "metadata": {},
   "outputs": [
    {
     "data": {
      "text/plain": [
       "-1246.35"
      ]
     },
     "execution_count": 19,
     "metadata": {},
     "output_type": "execute_result"
    }
   ],
   "source": [
    "Al_dL = deltaL(.3, .1, Al_COTE)*1e6\n",
    "Al_dL"
   ]
  },
  {
   "cell_type": "code",
   "execution_count": 20,
   "id": "acc9cb44-3a5f-4b17-a188-5b8040e2bc2c",
   "metadata": {},
   "outputs": [
    {
     "data": {
      "text/plain": [
       "-900.0"
      ]
     },
     "execution_count": 20,
     "metadata": {},
     "output_type": "execute_result"
    }
   ],
   "source": [
    "# https://trc.nist.gov/cryogenics/materials/304Stainless/304Stainless_rev.htm\n",
    "S_dL = -3*1e-3 * .3 * 1e6\n",
    "S_dL"
   ]
  },
  {
   "cell_type": "code",
   "execution_count": 18,
   "id": "14fba0c4-8de1-4734-b0c9-1c316e339c94",
   "metadata": {},
   "outputs": [
    {
     "data": {
      "text/plain": [
       "346.3499999999999"
      ]
     },
     "execution_count": 18,
     "metadata": {},
     "output_type": "execute_result"
    }
   ],
   "source": [
    "S_dL - Al_dL # um"
   ]
  }
 ],
 "metadata": {
  "kernelspec": {
   "display_name": "Python 3 (ipykernel)",
   "language": "python",
   "name": "python3"
  },
  "language_info": {
   "codemirror_mode": {
    "name": "ipython",
    "version": 3
   },
   "file_extension": ".py",
   "mimetype": "text/x-python",
   "name": "python",
   "nbconvert_exporter": "python",
   "pygments_lexer": "ipython3",
   "version": "3.9.7"
  }
 },
 "nbformat": 4,
 "nbformat_minor": 5
}
